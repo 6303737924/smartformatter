{
 "cells": [
  {
   "cell_type": "code",
   "execution_count": 1,
   "id": "da5c60ba-4b4f-441a-b05c-5e188966ca45",
   "metadata": {},
   "outputs": [],
   "source": [
    "import smartformatter"
   ]
  },
  {
   "cell_type": "code",
   "execution_count": null,
   "id": "47e20667-b295-4863-bfda-a5bcd313937e",
   "metadata": {},
   "outputs": [],
   "source": []
  }
 ],
 "metadata": {
  "kernelspec": {
   "display_name": "Python 3 (ipykernel)",
   "language": "python",
   "name": "python3"
  },
  "language_info": {
   "codemirror_mode": {
    "name": "ipython",
    "version": 3
   },
   "file_extension": ".py",
   "mimetype": "text/x-python",
   "name": "python",
   "nbconvert_exporter": "python",
   "pygments_lexer": "ipython3",
   "version": "3.12.7"
  }
 },
 "nbformat": 4,
 "nbformat_minor": 5
}
