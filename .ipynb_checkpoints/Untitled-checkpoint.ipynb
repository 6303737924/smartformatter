{
 "cells": [
  {
   "cell_type": "code",
   "execution_count": 1,
   "id": "9b146ca3-5e66-4582-9cff-91fe2db58c02",
   "metadata": {},
   "outputs": [],
   "source": [
    "!mkdir smartformatter"
   ]
  },
  {
   "cell_type": "code",
   "execution_count": null,
   "id": "f67a6686-efd6-4059-94a0-3f2865029306",
   "metadata": {},
   "outputs": [],
   "source": []
  }
 ],
 "metadata": {
  "kernelspec": {
   "display_name": "Python 3 (ipykernel)",
   "language": "python",
   "name": "python3"
  },
  "language_info": {
   "codemirror_mode": {
    "name": "ipython",
    "version": 3
   },
   "file_extension": ".py",
   "mimetype": "text/x-python",
   "name": "python",
   "nbconvert_exporter": "python",
   "pygments_lexer": "ipython3",
   "version": "3.12.7"
  }
 },
 "nbformat": 4,
 "nbformat_minor": 5
}
