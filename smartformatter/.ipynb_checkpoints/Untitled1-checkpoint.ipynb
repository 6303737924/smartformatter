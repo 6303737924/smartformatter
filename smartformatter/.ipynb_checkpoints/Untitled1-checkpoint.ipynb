{
 "cells": [
  {
   "cell_type": "code",
   "execution_count": 2,
   "id": "74b7967f-df43-4510-b976-9a68024f8147",
   "metadata": {},
   "outputs": [
    {
     "name": "stderr",
     "output_type": "stream",
     "text": [
      "UsageError: Cell magic `%%writefile__init__.py` not found.\n"
     ]
    }
   ],
   "source": [
    "%%writefile__init__.py\n",
    "\n",
    "from .core import format_name, format_phone, format_currency, number_to_words,slugify"
   ]
  },
  {
   "cell_type": "code",
   "execution_count": 1,
   "id": "3cf5fb21-2514-4595-877f-c4dbc233afaf",
   "metadata": {},
   "outputs": [
    {
     "data": {
      "text/plain": [
       "'C:\\\\Users\\\\saraa\\\\smartformatter\\\\smartformatter'"
      ]
     },
     "execution_count": 1,
     "metadata": {},
     "output_type": "execute_result"
    }
   ],
   "source": [
    "import os # To get current directory\n",
    "os.getcwd()"
   ]
  },
  {
   "cell_type": "code",
   "execution_count": 1,
   "id": "dc944677-9b0f-43bd-87f0-22681cb32092",
   "metadata": {},
   "outputs": [
    {
     "name": "stdout",
     "output_type": "stream",
     "text": [
      "Overwriting core.py\n"
     ]
    }
   ],
   "source": [
    "%%writefile core.py\n",
    "\n",
    "import re\n",
    "import inflect\n",
    "\n",
    "def format_name(name):\n",
    "    return ' '.join([w.capitalize() for w in name.strip().split])\n",
    "\n",
    "def format_phone(phone):\n",
    "    digits = re.sub('r\\D','', phone)\n",
    "    return f\"+{digits[:2]} {digits[2:7]} {digits[7:]}\"\n",
    "\n",
    "def format_currency(amount,symbol='$'):\n",
    "    return f\"{symbol}{amount:,.2f}\"\n",
    "\n",
    "def number_to_words(n):\n",
    "    p = inflect.engine()\n",
    "    return p.number_to_words(n).replace(',','')\n",
    "\n",
    "def slugify(text):\n",
    "    return re.sub(r'[^a-z0-9]+','-', text.lower()).strip('-')\n",
    "                 "
   ]
  },
  {
   "cell_type": "code",
   "execution_count": null,
   "id": "c85402e8-37a5-4d35-a691-55ce0c1fe819",
   "metadata": {},
   "outputs": [],
   "source": []
  }
 ],
 "metadata": {
  "kernelspec": {
   "display_name": "Python 3 (ipykernel)",
   "language": "python",
   "name": "python3"
  },
  "language_info": {
   "codemirror_mode": {
    "name": "ipython",
    "version": 3
   },
   "file_extension": ".py",
   "mimetype": "text/x-python",
   "name": "python",
   "nbconvert_exporter": "python",
   "pygments_lexer": "ipython3",
   "version": "3.12.7"
  }
 },
 "nbformat": 4,
 "nbformat_minor": 5
}
