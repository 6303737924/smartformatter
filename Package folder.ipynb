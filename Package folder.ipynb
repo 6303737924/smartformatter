{
 "cells": [
  {
   "cell_type": "code",
   "execution_count": 2,
   "id": "9b146ca3-5e66-4582-9cff-91fe2db58c02",
   "metadata": {},
   "outputs": [
    {
     "name": "stderr",
     "output_type": "stream",
     "text": [
      "A subdirectory or file smartformatter already exists.\n"
     ]
    }
   ],
   "source": [
    "!mkdir smartformatter"
   ]
  },
  {
   "cell_type": "code",
   "execution_count": 1,
   "id": "f67a6686-efd6-4059-94a0-3f2865029306",
   "metadata": {},
   "outputs": [
    {
     "name": "stdout",
     "output_type": "stream",
     "text": [
      "Overwriting setup.py\n"
     ]
    }
   ],
   "source": [
    "%%writefile setup.py\n",
    "\n",
    "from setuptools import setup, find_packages\n",
    "\n",
    "setup(\n",
    "    name='smartformatter',\n",
    "    version='0.1',\n",
    "    packages=find_packages(),\n",
    "    install_requires=['inflect'],\n",
    "    author='Vaishnavi',\n",
    "    description='Utility functions for smart  formatting of names, phones, numbers',    \n",
    ")"
   ]
  },
  {
   "cell_type": "code",
   "execution_count": null,
   "id": "041e777b-b0fd-468e-a1c6-c70198d65df4",
   "metadata": {},
   "outputs": [],
   "source": []
  }
 ],
 "metadata": {
  "kernelspec": {
   "display_name": "Python 3 (ipykernel)",
   "language": "python",
   "name": "python3"
  },
  "language_info": {
   "codemirror_mode": {
    "name": "ipython",
    "version": 3
   },
   "file_extension": ".py",
   "mimetype": "text/x-python",
   "name": "python",
   "nbconvert_exporter": "python",
   "pygments_lexer": "ipython3",
   "version": "3.12.7"
  }
 },
 "nbformat": 4,
 "nbformat_minor": 5
}
